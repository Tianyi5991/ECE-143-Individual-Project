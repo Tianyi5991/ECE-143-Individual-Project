{
 "cells": [
  {
   "cell_type": "code",
   "execution_count": 468,
   "metadata": {},
   "outputs": [],
   "source": [
    "'''the overall desired coverage should be the total area of rectangular canvas, which is determined by user.\n",
    "    as n gets large, the covered area will get closer to the desired coverage. In other words, for any fixed\n",
    "    width and height of rectangular canvas, as n goes to infinity, the colored area will get closer to the \n",
    "    total area of the canvas.\n",
    "    Below is the function of adding tower visualization, \n",
    "    with input of width and height of the rectangular canvas.\n",
    "'''\n",
    "def towers(width, height):\n",
    "    #first draw the rectangle. Here I set the width and length to be both 10\n",
    "    assert isinstance(width,int)\n",
    "    assert isinstance(height,int)\n",
    "    xmax = width\n",
    "    ymax = height\n",
    "    %matplotlib inline\n",
    "    import matplotlib.pyplot as plt\n",
    "    import matplotlib.patches as ptch\n",
    "    import matplotlib.cm as cm\n",
    "    from matplotlib.patches import Rectangle\n",
    "    from matplotlib.collections import PatchCollection\n",
    "    from random import randint\n",
    "    from IPython import display\n",
    "    import numpy as np\n",
    "    plt.ylim(0,int(xmax))\n",
    "    plt.xlim(0,int(ymax))\n",
    "    n = 5 #number of communications\n",
    "    patches = [Rectangle((0,0), 0, 0) for i in range(n)]\n",
    "    x=[]\n",
    "    y=[]\n",
    "    w=[]\n",
    "    h=[]\n",
    "    for i in xrange(n):\n",
    "        x.append(int(np.random.randint(xmax, size = 1))) #generate uniform variables for lower-left coordinate\n",
    "        y.append(int(np.random.randint(xmax, size = 1)))\n",
    "        w.append(int(np.random.randint(ymax, size = 1))+1) #generate uniform variables for width and height, avoiding zeroes\n",
    "        h.append(int(np.random.randint(ymax, size = 1))+1)\n",
    "\n",
    "        if (x[i] + w[i] > xmax): #make sure rectangles are within the region\n",
    "            w[i] = xmax - x[i]\n",
    "            if (y[i] + h[i] > ymax):\n",
    "                h[i] = ymax - y[i]\n",
    "        elif (y[i] + h[i] > ymax):\n",
    "            h[i] = ymax - y[i]\n",
    "\n",
    "        patches[i].set_x(x[i])\n",
    "        patches[i].set_y(y[i])\n",
    "        patches[i].set_width(w[i])\n",
    "        patches[i].set_height(h[i])\n",
    "\n",
    "        print \"XY:%s, Width: %s, Height: %s\" % (patches[i].get_xy(), patches[i].get_width(), patches[i].get_height())\n",
    "        print \"__________________________________\"   \n",
    "        plt.close()\n",
    "        fig, ax = plt.subplots()\n",
    "        ax.set_xlim(0,xmax)\n",
    "        ax.set_ylim(0,ymax)\n",
    "        rect1 = ptch.Rectangle((x[0],y[0]), w[0],h[0], color='Blue',alpha=0.5)\n",
    "        ax.add_patch(rect1)\n",
    "        plt.title('Starts Here')\n",
    "        for j in range(i): #adding new rectangles randomly,may have intersections\n",
    "            p = ptch.Rectangle((x[j+1],y[j+1]),w[j+1],h[j+1], color=np.random.rand(3,),alpha=0.5)\n",
    "            ax.add_patch(p)\n",
    "            plt.title('New Tower Enters')\n",
    "\n",
    "            if x[j] in range(x[j-1],x[j-1]+w[j-1]): #check if trimming is needed\n",
    "                if y[j] in range(y[j-1], y[j-1]+h[j-1]):\n",
    "                    if w[j]>h[j]:\n",
    "                        x[j] = x[j-1]+w[j-1]\n",
    "                    else:\n",
    "                        y[j] = y[j-1]+h[j-1]\n",
    "                plt.title('New Tower is Trimmed')\n",
    "        plt.show(block=False)\n",
    "    print x,y,w,h\n",
    "    print x[0]"
   ]
  },
  {
   "cell_type": "code",
   "execution_count": 469,
   "metadata": {},
   "outputs": [
    {
     "name": "stdout",
     "output_type": "stream",
     "text": [
      "XY:(3, 4), Width: 6, Height: 3\n",
      "__________________________________\n"
     ]
    },
    {
     "data": {
      "image/png": "[encoded data removed]",
      "text/plain": [
       "<matplotlib.figure.Figure at 0x7fa0c0497850>"
      ]
     },
     "metadata": {},
     "output_type": "display_data"
    },
    {
     "name": "stdout",
     "output_type": "stream",
     "text": [
      "XY:(3, 4), Width: 3, Height: 2\n",
      "__________________________________\n"
     ]
    },
    {
     "data": {
      "image/png": "[encoded data removed]",
      "text/plain": [
       "<matplotlib.figure.Figure at 0x7fa0c02eb650>"
      ]
     },
     "metadata": {},
     "output_type": "display_data"
    },
    {
     "name": "stdout",
     "output_type": "stream",
     "text": [
      "XY:(1, 0), Width: 2, Height: 10\n",
      "__________________________________\n"
     ]
    },
    {
     "data": {
      "image/png": "[encoded data removed]",
      "text/plain": [
       "<matplotlib.figure.Figure at 0x7fa0c0412d10>"
      ]
     },
     "metadata": {},
     "output_type": "display_data"
    },
    {
     "name": "stdout",
     "output_type": "stream",
     "text": [
      "XY:(8, 7), Width: 1, Height: 3\n",
      "__________________________________\n"
     ]
    },
    {
     "data": {
      "image/png": "[encoded data removed]",
      "text/plain": [
       "<matplotlib.figure.Figure at 0x7fa0c05c5c50>"
      ]
     },
     "metadata": {},
     "output_type": "display_data"
    },
    {
     "name": "stdout",
     "output_type": "stream",
     "text": [
      "XY:(3, 8), Width: 1, Height: 2\n",
      "__________________________________\n"
     ]
    },
    {
     "data": {
      "image/png": "[encoded data removed]",
      "text/plain": [
       "<matplotlib.figure.Figure at 0x7fa0c044f5d0>"
      ]
     },
     "metadata": {},
     "output_type": "display_data"
    },
    {
     "name": "stdout",
     "output_type": "stream",
     "text": [
      "[6, 3, 1, 8, 3] [4, 4, 0, 7, 8] [6, 3, 2, 1, 1] [3, 2, 10, 3, 2]\n",
      "6\n"
     ]
    }
   ],
   "source": [
    "towers(10,10)"
   ]
  },
  {
   "cell_type": "code",
   "execution_count": null,
   "metadata": {
    "collapsed": true
   },
   "outputs": [],
   "source": []
  }
 ],
 "metadata": {
  "kernelspec": {
   "display_name": "Python 2",
   "language": "python",
   "name": "python2"
  },
  "language_info": {
   "codemirror_mode": {
    "name": "ipython",
    "version": 2
   },
   "file_extension": ".py",
   "mimetype": "text/x-python",
   "name": "python",
   "nbconvert_exporter": "python",
   "pygments_lexer": "ipython2",
   "version": "2.7.13"
  }
 },
 "nbformat": 4,
 "nbformat_minor": 2
}
