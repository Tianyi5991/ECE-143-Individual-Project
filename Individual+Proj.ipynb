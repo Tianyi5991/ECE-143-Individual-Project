{
 "cells": [
  {
   "cell_type": "code",
   "execution_count": 444,
   "metadata": {},
   "outputs": [],
   "source": [
    "def towers(width, height):\n",
    "    #first draw the rectangle. Here I set the width and length to be both 10\n",
    "    xmax = width\n",
    "    ymax = height\n",
    "    %matplotlib inline\n",
    "    import matplotlib.pyplot as plt\n",
    "    import matplotlib.patches as ptch\n",
    "    import matplotlib.cm as cm\n",
    "    from matplotlib.patches import Rectangle\n",
    "    from matplotlib.collections import PatchCollection\n",
    "    from random import randint\n",
    "    from IPython import display\n",
    "    import numpy as np\n",
    "    plt.ylim(0,int(xmax))\n",
    "    plt.xlim(0,int(ymax))\n",
    "    n = 5 #number of communications\n",
    "    patches = [Rectangle((0,0), 0, 0) for i in range(n)]\n",
    "    x=[]\n",
    "    y=[]\n",
    "    w=[]\n",
    "    h=[]\n",
    "    for i in xrange(n):\n",
    "        x.append(int(np.random.randint(xmax, size = 1))) #generate uniform variables for lower-left coordinate\n",
    "        y.append(int(np.random.randint(xmax, size = 1)))\n",
    "        w.append(int(np.random.randint(ymax, size = 1))+1) #generate uniform variables for width and height, avoiding zeroes\n",
    "        h.append(int(np.random.randint(ymax, size = 1))+1)\n",
    "\n",
    "        if (x[i] + w[i] > xmax): #make sure rectangles are within the region\n",
    "            w[i] = xmax - x[i]\n",
    "            if (y[i] + h[i] > ymax):\n",
    "                h[i] = ymax - y[i]\n",
    "        elif (y[i] + h[i] > ymax):\n",
    "            h[i] = ymax - y[i]\n",
    "\n",
    "        patches[i].set_x(x[i])\n",
    "        patches[i].set_y(y[i])\n",
    "        patches[i].set_width(w[i])\n",
    "        patches[i].set_height(h[i])\n",
    "\n",
    "        print \"XY:%s, Width: %s, Height: %s\" % (patches[i].get_xy(), patches[i].get_width(), patches[i].get_height())\n",
    "        print \"__________________________________\"   \n",
    "        plt.close()\n",
    "        fig, ax = plt.subplots()\n",
    "        ax.set_xlim(0,xmax)\n",
    "        ax.set_ylim(0,ymax)\n",
    "        rect1 = ptch.Rectangle((x[0],y[0]), w[0],h[0], color='Blue',alpha=0.5)\n",
    "        ax.add_patch(rect1)\n",
    "        plt.title('Starts Here')\n",
    "        for j in range(i): #adding new rectangles randomly,may have intersections\n",
    "            p = ptch.Rectangle((x[j+1],y[j+1]),w[j+1],h[j+1], color=np.random.rand(3,),alpha=0.5)\n",
    "            ax.add_patch(p)\n",
    "            plt.title('New Tower Enters')\n",
    "            if x[j+1] in range(x[j],x[j]+w[j]):\n",
    "                if y[j+1] in range(y[j], y[j]+h[j]):\n",
    "                    if w[j+1]>h[j+1]:\n",
    "                        x[j+1] = x[j]+w[j]\n",
    "                    else:\n",
    "                        y[j+1] = y[j]+h[j]\n",
    "            plt.title('New Tower is Trimmed')\n",
    "            '''\n",
    "            if x[j+1] < x[j]: #now check if it intersects with other rectangles, trim if needed \n",
    "                if (x[j+1] + w[j+1] > x[j]): \n",
    "                    w[j+1]=x[j]-x[j+1]\n",
    "                    plt.title('New Tower is Trimmed')\n",
    "                    break\n",
    "            elif (x[j+1]<=x[j])&(x[j+1]+w[j+1]<=x[j]+w[j])&(y[j+1]<=y[j])&(y[j+1]+h[j+1]<=y[j]+h[j]):\n",
    "                p.remove()\n",
    "                plt.title('New Tower is Trimmed')\n",
    "                break\n",
    "            '''  \n",
    "        plt.show(block=False)\n",
    "    print x,y,w,h\n",
    "    print x[0]"
   ]
  },
  {
   "cell_type": "code",
   "execution_count": 445,
   "metadata": {},
   "outputs": [
    {
     "name": "stdout",
     "output_type": "stream",
     "text": [
      "XY:(8, 2), Width: 2, Height: 3\n",
      "__________________________________\n"
     ]
    },
    {
     "data": {
      "image/png": "[encoded data removed]",
      "text/plain": [
       "<matplotlib.figure.Figure at 0x7fa0c04bd2d0>"
      ]
     },
     "metadata": {},
     "output_type": "display_data"
    },
    {
     "name": "stdout",
     "output_type": "stream",
     "text": [
      "XY:(4, 4), Width: 6, Height: 6\n",
      "__________________________________\n"
     ]
    },
    {
     "data": {
      "image/png": "[encoded data removed]",
      "text/plain": [
       "<matplotlib.figure.Figure at 0x7fa0d1567750>"
      ]
     },
     "metadata": {},
     "output_type": "display_data"
    },
    {
     "name": "stdout",
     "output_type": "stream",
     "text": [
      "XY:(3, 5), Width: 2, Height: 5\n",
      "__________________________________\n"
     ]
    },
    {
     "data": {
      "image/png": "[encoded data removed]",
      "text/plain": [
       "<matplotlib.figure.Figure at 0x7fa0c18df850>"
      ]
     },
     "metadata": {},
     "output_type": "display_data"
    },
    {
     "name": "stdout",
     "output_type": "stream",
     "text": [
      "XY:(4, 5), Width: 4, Height: 5\n",
      "__________________________________\n"
     ]
    },
    {
     "data": {
      "image/png": "[encoded data removed]",
      "text/plain": [
       "<matplotlib.figure.Figure at 0x7fa0c066fe50>"
      ]
     },
     "metadata": {},
     "output_type": "display_data"
    },
    {
     "name": "stdout",
     "output_type": "stream",
     "text": [
      "XY:(7, 0), Width: 3, Height: 4\n",
      "__________________________________\n"
     ]
    },
    {
     "data": {
      "image/png": "[encoded data removed]",
      "text/plain": [
       "<matplotlib.figure.Figure at 0x7fa0d1688810>"
      ]
     },
     "metadata": {},
     "output_type": "display_data"
    },
    {
     "name": "stdout",
     "output_type": "stream",
     "text": [
      "[8, 4, 3, 4, 7] [2, 4, 5, 10, 0] [2, 6, 2, 4, 3] [3, 6, 5, 5, 4]\n",
      "8\n"
     ]
    }
   ],
   "source": [
    "towers(10,10)"
   ]
  },
  {
   "cell_type": "code",
   "execution_count": 421,
   "metadata": {},
   "outputs": [
    {
     "data": {
      "text/plain": [
       "<matplotlib.figure.Figure at 0x7fa0c02aad10>"
      ]
     },
     "metadata": {},
     "output_type": "display_data"
    }
   ],
   "source": [
    "from matplotlib import pyplot as plt\n",
    "from matplotlib.patches import Rectangle\n",
    "someX, someY = 0.5, 0.5\n",
    "plt.figure()\n",
    "#currentAxis = plt.gca()\n",
    "#currentAxis.add_patch(Rectangle((someX - .1, someY - .1), 0.2, 0.2,alpha=1))\n",
    "plt.show()"
   ]
  },
  {
   "cell_type": "code",
   "execution_count": null,
   "metadata": {
    "collapsed": true
   },
   "outputs": [],
   "source": []
  }
 ],
 "metadata": {
  "kernelspec": {
   "display_name": "Python 2",
   "language": "python",
   "name": "python2"
  },
  "language_info": {
   "codemirror_mode": {
    "name": "ipython",
    "version": 2
   },
   "file_extension": ".py",
   "mimetype": "text/x-python",
   "name": "python",
   "nbconvert_exporter": "python",
   "pygments_lexer": "ipython2",
   "version": "2.7.13"
  }
 },
 "nbformat": 4,
 "nbformat_minor": 2
}
